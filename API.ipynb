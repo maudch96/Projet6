{
  "nbformat": 4,
  "nbformat_minor": 0,
  "metadata": {
    "colab": {
      "name": "API_projet6.ipynb",
      "provenance": []
    },
    "kernelspec": {
      "name": "python3",
      "display_name": "Python 3"
    }
  },
  "cells": [
    {
      "cell_type": "code",
      "metadata": {
        "colab": {
          "base_uri": "https://localhost:8080/"
        },
        "id": "cccMvsOVOcdy",
        "outputId": "2aa29f64-5a78-4da6-e05e-1e2f93012e78"
      },
      "source": [
        "# Import files from drive\r\n",
        "from google.colab import drive\r\n",
        "drive.mount('/content/gdrive')"
      ],
      "execution_count": 1,
      "outputs": [
        {
          "output_type": "stream",
          "text": [
            "Mounted at /content/gdrive\n"
          ],
          "name": "stdout"
        }
      ]
    },
    {
      "cell_type": "code",
      "metadata": {
        "id": "FYE-MeM7OjJM",
        "colab": {
          "base_uri": "https://localhost:8080/"
        },
        "outputId": "930a8636-b3fe-4506-94fa-26440436521b"
      },
      "source": [
        "import matplotlib.pyplot as plt\r\n",
        "import numpy as np\r\n",
        "import os\r\n",
        "from keras.preprocessing.image import load_img\r\n",
        "from keras.preprocessing.image import img_to_array\r\n",
        "\r\n",
        "# Check if GPU is enabled\r\n",
        "# If so, it will print '/device:GPU:0'\r\n",
        "import tensorflow as tf\r\n",
        "tf.test.gpu_device_name()\r\n",
        "print(tf.__version__)"
      ],
      "execution_count": 2,
      "outputs": [
        {
          "output_type": "stream",
          "text": [
            "2.4.1\n"
          ],
          "name": "stdout"
        }
      ]
    },
    {
      "cell_type": "code",
      "metadata": {
        "id": "o2gr5O4NUKbb",
        "colab": {
          "base_uri": "https://localhost:8080/"
        },
        "outputId": "4a22c924-3b8f-4938-fc3f-127f5d527790"
      },
      "source": [
        "# Move to directory Projet-6\r\n",
        "%cd /content/gdrive/MyDrive/Colab_Notebooks/Projet-6/"
      ],
      "execution_count": 3,
      "outputs": [
        {
          "output_type": "stream",
          "text": [
            "/content/gdrive/MyDrive/Colab_Notebooks/Projet-6\n"
          ],
          "name": "stdout"
        }
      ]
    },
    {
      "cell_type": "code",
      "metadata": {
        "id": "Lq1DvLTdSIa6"
      },
      "source": [
        "# Import model\r\n",
        "model = tf.keras.models.load_model('saved_models/best_model.h5')\r\n",
        "\r\n",
        "# Create function that gives the breed and the percentage of matching from a photo \r\n",
        "def predict_breed(path_file):\r\n",
        "  # load the image from file\r\n",
        "  image = load_img(path_file, target_size = (256,256))\r\n",
        "  # convert the image pixels to a numpy array\r\n",
        "  image = img_to_array(image)\r\n",
        "  # reshape data for the model\r\n",
        "  image = image.reshape(1, 256,256, 3)\r\n",
        "  image = image/255.\r\n",
        "  # predict the breed\r\n",
        "  prediction = model.predict(image)\r\n",
        "  name_classes = os.listdir('train')\r\n",
        "  pos = np.argmax(prediction)\r\n",
        "  \r\n",
        "  print('Ce chien est : {} avec une probabilité de {}%'.format(name_classes[pos][10:], prediction[0][pos]*100))"
      ],
      "execution_count": 4,
      "outputs": []
    },
    {
      "cell_type": "code",
      "metadata": {
        "colab": {
          "base_uri": "https://localhost:8080/"
        },
        "id": "fY5HF0lo1CcQ",
        "outputId": "5a6e407a-029f-474d-dc03-98a112b6dacb"
      },
      "source": [
        "predict_breed('test/n02085620-Chihuahua/n02085620_10131.jpg')"
      ],
      "execution_count": null,
      "outputs": [
        {
          "output_type": "stream",
          "text": [
            "Ce chien est : Chihuahua avec une probabilité de 70.54483890533447%\n"
          ],
          "name": "stdout"
        }
      ]
    },
    {
      "cell_type": "code",
      "metadata": {
        "colab": {
          "base_uri": "https://localhost:8080/"
        },
        "id": "gPeUhQaf2PNm",
        "outputId": "2bb94817-03c0-4bd3-fa25-bf591adef4da"
      },
      "source": [
        "predict_breed('test/n02110185-Siberian_husky/n02110185_10116.jpg')"
      ],
      "execution_count": null,
      "outputs": [
        {
          "output_type": "stream",
          "text": [
            "Ce chien est : Tibetan_mastiff avec une probabilité de 45.28984725475311%\n"
          ],
          "name": "stdout"
        }
      ]
    },
    {
      "cell_type": "code",
      "metadata": {
        "colab": {
          "base_uri": "https://localhost:8080/"
        },
        "id": "KlQn-P9_27On",
        "outputId": "6ae23b3a-ba40-4324-9c2a-0265866061fc"
      },
      "source": [
        "predict_breed('test/n02108915-French_bulldog/n02108915_3520.jpg')"
      ],
      "execution_count": 5,
      "outputs": [
        {
          "output_type": "stream",
          "text": [
            "Ce chien est : bull_mastiff avec une probabilité de 50.591373443603516%\n"
          ],
          "name": "stdout"
        }
      ]
    },
    {
      "cell_type": "code",
      "metadata": {
        "colab": {
          "base_uri": "https://localhost:8080/"
        },
        "id": "L5YzgqRX3ASk",
        "outputId": "cbf6a941-438b-4226-e720-fd3c56d7ad2e"
      },
      "source": [
        "predict_breed('test/n02102177-Welsh_springer_spaniel/n02102177_1681.jpg')"
      ],
      "execution_count": null,
      "outputs": [
        {
          "output_type": "stream",
          "text": [
            "Ce chien est : Welsh_springer_spaniel avec une probabilité de 71.06332182884216%\n"
          ],
          "name": "stdout"
        }
      ]
    },
    {
      "cell_type": "code",
      "metadata": {
        "id": "8NEuR-F63GSi",
        "colab": {
          "base_uri": "https://localhost:8080/"
        },
        "outputId": "8022d83d-b082-47bf-ef7c-45aba0c4928e"
      },
      "source": [
        "predict_breed('test/n02099712-Labrador_retriever/n02099712_1150.jpg')"
      ],
      "execution_count": null,
      "outputs": [
        {
          "output_type": "stream",
          "text": [
            "Ce chien est : Labrador_retriever avec une probabilité de 40.079671144485474%\n"
          ],
          "name": "stdout"
        }
      ]
    },
    {
      "cell_type": "code",
      "metadata": {
        "id": "lftgPUsa1D2X"
      },
      "source": [
        ""
      ],
      "execution_count": null,
      "outputs": []
    }
  ]
}